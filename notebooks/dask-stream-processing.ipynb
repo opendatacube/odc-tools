{
 "cells": [
  {
   "cell_type": "code",
   "execution_count": 1,
   "metadata": {},
   "outputs": [
    {
     "data": {
      "text/html": [
       "<table style=\"border: 2px solid white;\">\n",
       "<tr>\n",
       "<td style=\"vertical-align: top; border: 0px solid white\">\n",
       "<h3>Client</h3>\n",
       "<ul>\n",
       "  <li><b>Scheduler: </b>tcp://127.0.0.1:37211\n",
       "  <li><b>Dashboard: </b><a href='http://127.0.0.1:8787/status' target='_blank'>http://127.0.0.1:8787/status</a>\n",
       "</ul>\n",
       "</td>\n",
       "<td style=\"vertical-align: top; border: 0px solid white\">\n",
       "<h3>Cluster</h3>\n",
       "<ul>\n",
       "  <li><b>Workers: </b>4</li>\n",
       "  <li><b>Cores: </b>48</li>\n",
       "  <li><b>Memory: </b>128.58 GB</li>\n",
       "</ul>\n",
       "</td>\n",
       "</tr>\n",
       "</table>"
      ],
      "text/plain": [
       "<Client: scheduler='tcp://127.0.0.1:37211' processes=4 cores=48>"
      ]
     },
     "execution_count": 1,
     "metadata": {},
     "output_type": "execute_result"
    }
   ],
   "source": [
    "import dask\n",
    "import dask.distributed\n",
    "\n",
    "def worker_setup_auto():\n",
    "    from datacube.utils.rio import set_default_rio_config, activate_from_config\n",
    "    set_default_rio_config(aws={'region_name': 'auto'},\n",
    "                           GDAL_INGESTED_BYTES_AT_OPEN=32*1024,\n",
    "                           cloud_defaults=True)\n",
    "    return activate_from_config()\n",
    "\n",
    "\n",
    "client = dask.distributed.Client(n_workers=4, \n",
    "                                 threads_per_worker=12, \n",
    "                                 processes=True, \n",
    "                                 ip='127.0.0.1')\n",
    "\n",
    "# Runs once on every worker process, not per worker thread!\n",
    "client.register_worker_callbacks(setup=worker_setup_auto)\n",
    "client"
   ]
  },
  {
   "cell_type": "code",
   "execution_count": 2,
   "metadata": {},
   "outputs": [],
   "source": [
    "import numpy as np\n",
    "import pickle\n",
    "from tqdm import tqdm_notebook\n",
    "from timeit import default_timer as t_now\n",
    "from datacube import Datacube\n",
    "from datacube.utils.rio import set_default_rio_config\n",
    "from datacube.testutils.io import get_raster_info\n",
    "from odc.algo import dask_compute_stream\n",
    "\n",
    "\n",
    "def load_grids(ds, grids):\n",
    "    b2g = {v:k for k,v in grids.items()}\n",
    "    bands = list(grids.values())\n",
    "    def safe_get(ds):\n",
    "        try:\n",
    "            return get_raster_info(ds, bands)\n",
    "        except Exception:\n",
    "            return {}\n",
    "\n",
    "    grids = {b2g[k]: ii.geobox\n",
    "            for k, ii in safe_get(ds).items()}\n",
    "    \n",
    "    return (ds.id, grids)\n",
    "\n",
    "\n",
    "grids = {'10m': 'nbar_blue', \n",
    "         '20m': 'fmask',\n",
    "         '60m': 'nbar_coastal_aerosol'}\n",
    "\n",
    "product='s2a_nrt_granule'\n",
    "set_default_rio_config(aws={'region_name': 'auto'}, \n",
    "                       cloud_defaults=True)\n",
    "\n",
    "dc = Datacube(env='s2')"
   ]
  },
  {
   "cell_type": "code",
   "execution_count": 3,
   "metadata": {},
   "outputs": [
    {
     "data": {
      "text/plain": [
       "(22559, 48)"
      ]
     },
     "execution_count": 3,
     "metadata": {},
     "output_type": "execute_result"
    }
   ],
   "source": [
    "dss_total = dc.index.datasets.count(product=product)\n",
    "ncores = sum(client.ncores().values())\n",
    "dss_total, ncores"
   ]
  },
  {
   "cell_type": "code",
   "execution_count": 4,
   "metadata": {},
   "outputs": [
    {
     "data": {
      "application/vnd.jupyter.widget-view+json": {
       "model_id": "13924663c3134b60a01ebf4a4bb1eefe",
       "version_major": 2,
       "version_minor": 0
      },
      "text/plain": [
       "HBox(children=(IntProgress(value=0, max=22559), HTML(value='')))"
      ]
     },
     "metadata": {},
     "output_type": "display_data"
    },
    {
     "name": "stdout",
     "output_type": "stream",
     "text": [
      "\n",
      "CPU times: user 44.1 s, sys: 3.35 s, total: 47.4 s\n",
      "Wall time: 2min 41s\n"
     ]
    }
   ],
   "source": [
    "%%time\n",
    "\n",
    "# Number of datasets to process in one go on one worker\n",
    "#  - Larger number means less comms overhead\n",
    "#  - Too large is problematic too however, aim for 5-20 seconds per task\n",
    "lump = 40\n",
    "\n",
    "t0 = t_now()\n",
    "dss_all = dc.find_datasets_lazy(product=product)\n",
    "\n",
    "results = dask_compute_stream(client, lambda ds: load_grids(ds, grids),\n",
    "                              dss_all,\n",
    "                              lump=lump,\n",
    "                              max_in_flight=lump*ncores*2,\n",
    "                              name='load_grids')\n",
    "\n",
    "ngg_all = [v for v in tqdm_notebook(results, total=dss_total)]\n",
    "t1 = t_now()"
   ]
  },
  {
   "cell_type": "code",
   "execution_count": 5,
   "metadata": {},
   "outputs": [
    {
     "name": "stdout",
     "output_type": "stream",
     "text": [
      "\n",
      "Num. Workers    : 48\n",
      "Files processed : 67,677 f\n",
      "Time took       : 161.3 sec\n",
      "FPS             : 419.6 f/sec\n",
      "FPS (worker)    :   8.7 f/sec\n",
      "\n"
     ]
    }
   ],
   "source": [
    "t_total = t1 - t0\n",
    "files_processed = len(grids)*dss_total\n",
    "\n",
    "t_total, files_processed\n",
    "print('''\n",
    "Num. Workers    : {nworkers:d}\n",
    "Files processed : {nf:,d} f\n",
    "Time took       : {t_total:5.1f} sec\n",
    "FPS             : {fps_total:5.1f} f/sec\n",
    "FPS (worker)    : {fps_per_worker:5.1f} f/sec\n",
    "'''.format(nf=files_processed, \n",
    "           t_total=t_total,\n",
    "           nworkers=ncores,\n",
    "           fps_total=files_processed/t_total,\n",
    "           fps_per_worker=files_processed/t_total/ncores\n",
    "          ))"
   ]
  },
  {
   "cell_type": "code",
   "execution_count": 6,
   "metadata": {},
   "outputs": [],
   "source": [
    "pickle.dump(dict(ngg_all), open(product+'_grids.pickle', 'wb'))"
   ]
  },
  {
   "cell_type": "code",
   "execution_count": 7,
   "metadata": {},
   "outputs": [
    {
     "data": {
      "text/plain": [
       "(2,\n",
       " [UUID('0ce886bc-9ec5-4465-bc65-570ac2f9c370'),\n",
       "  UUID('81abd3f6-1e42-4b87-9e25-ea0de1c09e88')])"
      ]
     },
     "execution_count": 7,
     "metadata": {},
     "output_type": "execute_result"
    }
   ],
   "source": [
    "failures = [_id for _id, v in ngg_all if len(v) == 0]\n",
    "\n",
    "len(failures), failures[:10]"
   ]
  }
 ],
 "metadata": {
  "kernelspec": {
   "display_name": "Python 3",
   "language": "python",
   "name": "python3"
  },
  "language_info": {
   "codemirror_mode": {
    "name": "ipython",
    "version": 3
   },
   "file_extension": ".py",
   "mimetype": "text/x-python",
   "name": "python",
   "nbconvert_exporter": "python",
   "pygments_lexer": "ipython3",
   "version": "3.6.7"
  }
 },
 "nbformat": 4,
 "nbformat_minor": 2
}
