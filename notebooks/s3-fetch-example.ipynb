{
 "cells": [
  {
   "cell_type": "code",
   "execution_count": 1,
   "metadata": {},
   "outputs": [],
   "source": [
    "import itertools\n",
    "from odc.aws.s3 import S3Fetcher"
   ]
  },
  {
   "attachments": {},
   "cell_type": "markdown",
   "metadata": {},
   "source": [
    "## Construct fetcher object"
   ]
  },
  {
   "cell_type": "code",
   "execution_count": 2,
   "metadata": {},
   "outputs": [],
   "source": [
    "s3 = S3Fetcher()"
   ]
  },
  {
   "attachments": {},
   "cell_type": "markdown",
   "metadata": {},
   "source": [
    "`s3` is a callable that accepts a sequence of urls and generates a sequence of result objects with fields\n",
    "\n",
    "- `url` -- requested url\n",
    "- `data` -- bytes\n",
    "- `last_modified` -- timestamp of the object\n",
    "- `range=None` -- optional, range of bytes if requested partial read\n",
    "- `error=None` -- on error this contains an exception object\n",
    "\n",
    "\n",
    "Note that output order will not be the same as input order, you can not assume one to one correspondence between input and output sequences."
   ]
  },
  {
   "attachments": {},
   "cell_type": "markdown",
   "metadata": {},
   "source": [
    "## Get some urls to fetch\n",
    "\n",
    "Get 100 urls pointing to yaml documents for S2A/B NRT."
   ]
  },
  {
   "cell_type": "code",
   "execution_count": 3,
   "metadata": {},
   "outputs": [
    {
     "name": "stdout",
     "output_type": "stream",
     "text": [
      "CPU times: user 2.68 s, sys: 348 ms, total: 3.03 s\n",
      "Wall time: 2.88 s\n"
     ]
    }
   ],
   "source": [
    "%%time\n",
    "urls = (o.url for o in s3.find('s3://dea-public-data/L2/sentinel-2-nrt/S2MSIARD/', glob='*yaml'))\n",
    "urls = itertools.islice(urls, 100)\n",
    "urls = list(urls)"
   ]
  },
  {
   "cell_type": "code",
   "execution_count": 4,
   "metadata": {},
   "outputs": [
    {
     "data": {
      "text/plain": [
       "(100,\n",
       " ['s3://dea-public-data/L2/sentinel-2-nrt/S2MSIARD/2018-08-12/S2B_OPER_MSI_ARD_TL_EPAE_20180813T012421_A007492_T56LPM_N02.06/ARD-METADATA.yaml',\n",
       "  's3://dea-public-data/L2/sentinel-2-nrt/S2MSIARD/2018-08-12/S2B_OPER_MSI_ARD_TL_EPAE_20180813T012421_A007492_T56LPN_N02.06/ARD-METADATA.yaml',\n",
       "  's3://dea-public-data/L2/sentinel-2-nrt/S2MSIARD/2018-08-12/S2B_OPER_MSI_ARD_TL_EPAE_20180813T012421_A007492_T56LPP_N02.06/ARD-METADATA.yaml'])"
      ]
     },
     "execution_count": 4,
     "metadata": {},
     "output_type": "execute_result"
    }
   ],
   "source": [
    "len(urls), urls[:3]"
   ]
  },
  {
   "attachments": {},
   "cell_type": "markdown",
   "metadata": {},
   "source": [
    "We didn't need to wait for `s3.find` to finish, as fetcher accepts an iterator, we could just pass in the sequence coming out of `s3.find` directly to the fetcher. This was mainly done to understand relative costs of the two operations."
   ]
  },
  {
   "cell_type": "code",
   "execution_count": 5,
   "metadata": {},
   "outputs": [
    {
     "name": "stdout",
     "output_type": "stream",
     "text": [
      "CPU times: user 459 ms, sys: 40.8 ms, total: 500 ms\n",
      "Wall time: 790 ms\n"
     ]
    }
   ],
   "source": [
    "%%time\n",
    "rr = list(s3(urls))"
   ]
  },
  {
   "cell_type": "code",
   "execution_count": 6,
   "metadata": {},
   "outputs": [
    {
     "data": {
      "text/plain": [
       "(100, datetime.datetime(2018, 8, 13, 7, 12, 11, tzinfo=tzutc()), 23877, bytes)"
      ]
     },
     "execution_count": 6,
     "metadata": {},
     "output_type": "execute_result"
    }
   ],
   "source": [
    "r = rr[0]\n",
    "len(rr), r.last_modified, len(r.data), type(r.data)"
   ]
  },
  {
   "cell_type": "code",
   "execution_count": 7,
   "metadata": {},
   "outputs": [
    {
     "name": "stdout",
     "output_type": "stream",
     "text": [
      "algorithm_information:\n",
      "    algorithm_version: 2.0\n",
      "    arg25_doi: http://dx.doi.org/10.4225/25/5487CC0D4F40B\n",
      "    nbar_doi: http://dx.doi.org/10.1109/JSTARS.2010.2042281\n",
      "    nbar_terrain_corrected_doi: http://dx.doi.org/10.1016/j.rse.2012.06.018\n",
      "extent:\n",
      "    center_dt: '2018-08-12T23:57:34.459Z'\n",
      "    coord:\n",
      "        ll:\n",
      "            lat: -12.750842155509027 \n",
      "...\n"
     ]
    }
   ],
   "source": [
    "txt = r.data.decode('utf8')\n",
    "txt = '\\n'.join(txt.splitlines()[:10])\n",
    "print(txt, '\\n...')"
   ]
  }
 ],
 "metadata": {
  "kernelspec": {
   "display_name": "Python 3",
   "language": "python",
   "name": "python3"
  },
  "language_info": {
   "codemirror_mode": {
    "name": "ipython",
    "version": 3
   },
   "file_extension": ".py",
   "mimetype": "text/x-python",
   "name": "python",
   "nbconvert_exporter": "python",
   "pygments_lexer": "ipython3",
   "version": "3.6.5"
  }
 },
 "nbformat": 4,
 "nbformat_minor": 2
}
